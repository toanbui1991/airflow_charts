{
 "cells": [
  {
   "cell_type": "code",
   "execution_count": null,
   "metadata": {},
   "outputs": [],
   "source": [
    "#discussion about deployment vs statefulset\n",
    "    # Deployment is a resource to deploy a stateless application, if using a PVC, all replicas will be using the same Volume and none of it will have its own state.\n",
    "    # Statefulsets is used for Stateful applications, each replica of the pod will have its own state, and will be using its own Volume.\n",
    "\n",
    "#Note about statefull vs stateless application in kubernetes:\n",
    "    # Stateless application is an application which do not depend on outside resource like database\n",
    "    # Statefull application is an application which depend on other outside resource like database"
   ]
  },
  {
   "cell_type": "code",
   "execution_count": null,
   "metadata": {},
   "outputs": [],
   "source": [
    "#Note about worker component to deploy worker:\n",
    "    #StatefulSet: is object which use to deploy stateful application\n",
    "    #Service: define how to access pod of Deployment or StatefulSet\n",
    "    #PodDisruptionBudget (pod disruption budget): define the minimum pod of Deployment or StatefulSet. Therefore, we can not delete by command if pod equal to minimum limit\n",
    "    #HorizontalPodAutoscaler: define how to increase number of pods\n",
    "\n",
    "#Note about horizontal vs vertical autoscaling: \n",
    "    # horizontal scaling means increase the number of pod.\n",
    "    # vertical scaling means increase resource for each pod.\n",
    "\n",
    "    "
   ]
  },
  {
   "cell_type": "code",
   "execution_count": null,
   "metadata": {},
   "outputs": [],
   "source": [
    "#Note about StatefulSet important attributes:\n",
    "    # because each pod deploy with statefulset have it own volume. we have to define VolumeMount and volume or volumeClaimTemplates\n",
    "    # like Deployment, we have to set replica (how many pod do we want), template and container (what application we want to deploy)\n",
    "\n",
    "#Note about Service in worker conifg:\n",
    "    # service: define out how access pod. we have to define protocal (which protocal use to access pod), port (which port of service resource to access), selector (how to select pod which belong to that service)\n",
    "\n",
    "#Note about PodDisruptionBudget:\n",
    "    # definition: it define minimum of pod of a service. \n",
    "    # we have to define selector (how to select pods), minAvailable or maxUnavailable\n",
    "#Note about "
   ]
  },
  {
   "cell_type": "code",
   "execution_count": null,
   "metadata": {},
   "outputs": [],
   "source": [
    "#Note about Kind:\n",
    "    #definition: kind is a tools which allow us to run kubernetes with multiple nodes in your local computer using docker.\n",
    "\n",
    "#Note about kubectl:\n",
    "    #kubectl is a command line tools to control your kubernetes cluster\n",
    "\n",
    "#Note about helm:\n",
    "    #helm is a command line tools and software which allow us to define and deploy kubernetes objects which instructure as code"
   ]
  },
  {
   "cell_type": "code",
   "execution_count": null,
   "metadata": {},
   "outputs": [],
   "source": [
    "# the person we need to follow in term of airflow and kubernetes is Marc Lamberti. github profile: https://github.com/marclamberti\n",
    "# this note is follow this github repo: https://github.com/marclamberti/webinar-airflow-chart\n",
    "#let try to deploy kubernetes with local kubernetes cluster with multiple nodes (3 nodes (1 control + 2 worker))\n",
    "    #the first step is to create local kubernetes cluster with multiple node:\n",
    "    #define the cluster with kind and then deploy cluster with command: kind create cluster --name $cluster_name --config config_file_path.yaml\n",
    "    \n",
    "    #after create cluster, we check information about cluster with command: kubectl cluster-info, and kubectl get nodes -o wide\n",
    "\n",
    "    #after we have check cluster information let create namespace for kubernetes object management: kubectl create namespace $namespace_name\n",
    "    #check the newly created namespace with command: kubectl get namespace\n",
    "\n",
    "    #after create namespace for kubernetes object management. we add airflow official helm chart to our local repo with command: helm repo add [name] [url] [flags]\n",
    "    #example: helm repo add apache-airflow https://airflow.apache.org"
   ]
  }
 ],
 "metadata": {
  "language_info": {
   "name": "python"
  },
  "orig_nbformat": 4
 },
 "nbformat": 4,
 "nbformat_minor": 2
}
